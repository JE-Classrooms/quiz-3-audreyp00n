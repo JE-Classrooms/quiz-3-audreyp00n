{
 "cells": [
  {
   "cell_type": "markdown",
   "metadata": {},
   "source": [
    "# Quiz 3\n",
    "\n",
    "**Author:**"
   ]
  },
  {
   "cell_type": "markdown",
   "metadata": {},
   "source": [
    "**Exercise 1:** \n",
    "\n",
    "1. Import the nobel price data frame using pandas.\n",
    "\n",
    "2. Explore the data set: \n",
    "\n",
    "    2.1. Print the first five rows of the table.\n",
    "\n",
    "    2.2. Print all the columns in the table.\n",
    "\n",
    "    2.3. Print the types of all the columns in the table.\n",
    "\n",
    "    2.4. Would the describe function give us any useful information of this data? (answer based on the data types of the columns).\n",
    "\n",
    "3. Select only the gender column. Using a lambda function and the filter function, calculate the number and proportion of woman who have won the nobel price.\n",
    "\n",
    "4. Select the column gender and save it in an object called ```g```. Do the same with the column category, and save it in an object called ```c```. Create a new object ```gc = g + c``` and print the content. \n",
    "\n",
    "5. Use the object ```gc```, a lambda function and the filter function to calculate the number and proportion of females that have won the economics novel price. Compare that number with the total number of females that have won any nobel price (from question 3) "
   ]
  },
  {
   "cell_type": "code",
   "execution_count": 6,
   "metadata": {},
   "outputs": [],
   "source": [
    "import pandas as pd"
   ]
  },
  {
   "cell_type": "code",
   "execution_count": 37,
   "metadata": {},
   "outputs": [],
   "source": [
    "# import data\n",
    "nobel_prize = pd.read_csv('/home/ec2-user/SageMaker/quiz-3-audreyp00n/data/nobel_prize.csv')"
   ]
  },
  {
   "cell_type": "code",
   "execution_count": 9,
   "metadata": {},
   "outputs": [
    {
     "data": {
      "text/html": [
       "<div>\n",
       "<style scoped>\n",
       "    .dataframe tbody tr th:only-of-type {\n",
       "        vertical-align: middle;\n",
       "    }\n",
       "\n",
       "    .dataframe tbody tr th {\n",
       "        vertical-align: top;\n",
       "    }\n",
       "\n",
       "    .dataframe thead th {\n",
       "        text-align: right;\n",
       "    }\n",
       "</style>\n",
       "<table border=\"1\" class=\"dataframe\">\n",
       "  <thead>\n",
       "    <tr style=\"text-align: right;\">\n",
       "      <th></th>\n",
       "      <th>index</th>\n",
       "      <th>id</th>\n",
       "      <th>firstname</th>\n",
       "      <th>surname</th>\n",
       "      <th>born</th>\n",
       "      <th>died</th>\n",
       "      <th>bornCountry</th>\n",
       "      <th>bornCountryCode</th>\n",
       "      <th>bornCity</th>\n",
       "      <th>diedCountry</th>\n",
       "      <th>...</th>\n",
       "      <th>diedCity</th>\n",
       "      <th>gender</th>\n",
       "      <th>year</th>\n",
       "      <th>category</th>\n",
       "      <th>overallMotivation</th>\n",
       "      <th>share</th>\n",
       "      <th>motivation</th>\n",
       "      <th>name</th>\n",
       "      <th>city</th>\n",
       "      <th>country</th>\n",
       "    </tr>\n",
       "  </thead>\n",
       "  <tbody>\n",
       "    <tr>\n",
       "      <th>0</th>\n",
       "      <td>0</td>\n",
       "      <td>846</td>\n",
       "      <td>Elinor</td>\n",
       "      <td>Ostrom</td>\n",
       "      <td>8/7/1933</td>\n",
       "      <td>6/12/2012</td>\n",
       "      <td>USA</td>\n",
       "      <td>US</td>\n",
       "      <td>Los Angeles, CA</td>\n",
       "      <td>USA</td>\n",
       "      <td>...</td>\n",
       "      <td>Bloomington, IN</td>\n",
       "      <td>female</td>\n",
       "      <td>2009.0</td>\n",
       "      <td>economics</td>\n",
       "      <td>NaN</td>\n",
       "      <td>2.0</td>\n",
       "      <td>\"for her analysis of economic governance, espe...</td>\n",
       "      <td>Indiana University</td>\n",
       "      <td>Bloomington, IN</td>\n",
       "      <td>USA</td>\n",
       "    </tr>\n",
       "    <tr>\n",
       "      <th>1</th>\n",
       "      <td>1</td>\n",
       "      <td>846</td>\n",
       "      <td>Elinor</td>\n",
       "      <td>Ostrom</td>\n",
       "      <td>8/7/1933</td>\n",
       "      <td>6/12/2012</td>\n",
       "      <td>USA</td>\n",
       "      <td>US</td>\n",
       "      <td>Los Angeles, CA</td>\n",
       "      <td>USA</td>\n",
       "      <td>...</td>\n",
       "      <td>Bloomington, IN</td>\n",
       "      <td>female</td>\n",
       "      <td>2009.0</td>\n",
       "      <td>economics</td>\n",
       "      <td>NaN</td>\n",
       "      <td>2.0</td>\n",
       "      <td>\"for her analysis of economic governance, espe...</td>\n",
       "      <td>Arizona State University</td>\n",
       "      <td>Tempe, AZ</td>\n",
       "      <td>USA</td>\n",
       "    </tr>\n",
       "    <tr>\n",
       "      <th>2</th>\n",
       "      <td>2</td>\n",
       "      <td>783</td>\n",
       "      <td>Wangari Muta</td>\n",
       "      <td>Maathai</td>\n",
       "      <td>4/1/1940</td>\n",
       "      <td>9/25/2011</td>\n",
       "      <td>Kenya</td>\n",
       "      <td>KE</td>\n",
       "      <td>Nyeri</td>\n",
       "      <td>Kenya</td>\n",
       "      <td>...</td>\n",
       "      <td>Nairobi</td>\n",
       "      <td>female</td>\n",
       "      <td>2004.0</td>\n",
       "      <td>peace</td>\n",
       "      <td>NaN</td>\n",
       "      <td>1.0</td>\n",
       "      <td>\"for her contribution to sustainable developme...</td>\n",
       "      <td>NaN</td>\n",
       "      <td>NaN</td>\n",
       "      <td>NaN</td>\n",
       "    </tr>\n",
       "    <tr>\n",
       "      <th>3</th>\n",
       "      <td>3</td>\n",
       "      <td>230</td>\n",
       "      <td>Dorothy Crowfoot</td>\n",
       "      <td>Hodgkin</td>\n",
       "      <td>5/12/1910</td>\n",
       "      <td>7/29/1994</td>\n",
       "      <td>Egypt</td>\n",
       "      <td>EG</td>\n",
       "      <td>Cairo</td>\n",
       "      <td>United Kingdom</td>\n",
       "      <td>...</td>\n",
       "      <td>Shipston-on-Stour</td>\n",
       "      <td>female</td>\n",
       "      <td>1964.0</td>\n",
       "      <td>chemistry</td>\n",
       "      <td>NaN</td>\n",
       "      <td>1.0</td>\n",
       "      <td>\"for her determinations by X-ray techniques of...</td>\n",
       "      <td>University of Oxford, Royal Society</td>\n",
       "      <td>Oxford</td>\n",
       "      <td>United Kingdom</td>\n",
       "    </tr>\n",
       "    <tr>\n",
       "      <th>4</th>\n",
       "      <td>4</td>\n",
       "      <td>918</td>\n",
       "      <td>Youyou</td>\n",
       "      <td>Tu</td>\n",
       "      <td>12/30/1930</td>\n",
       "      <td>0000-00-00</td>\n",
       "      <td>China</td>\n",
       "      <td>CN</td>\n",
       "      <td>Zhejiang Ningbo</td>\n",
       "      <td>NaN</td>\n",
       "      <td>...</td>\n",
       "      <td>NaN</td>\n",
       "      <td>female</td>\n",
       "      <td>2015.0</td>\n",
       "      <td>medicine</td>\n",
       "      <td>NaN</td>\n",
       "      <td>2.0</td>\n",
       "      <td>\"for her discoveries concerning a novel therap...</td>\n",
       "      <td>China Academy of Traditional Chinese Medicine</td>\n",
       "      <td>Beijing</td>\n",
       "      <td>China</td>\n",
       "    </tr>\n",
       "  </tbody>\n",
       "</table>\n",
       "<p>5 rows × 21 columns</p>\n",
       "</div>"
      ],
      "text/plain": [
       "   index   id         firstname  surname        born        died bornCountry  \\\n",
       "0      0  846            Elinor   Ostrom    8/7/1933   6/12/2012         USA   \n",
       "1      1  846            Elinor   Ostrom    8/7/1933   6/12/2012         USA   \n",
       "2      2  783      Wangari Muta  Maathai    4/1/1940   9/25/2011       Kenya   \n",
       "3      3  230  Dorothy Crowfoot  Hodgkin   5/12/1910   7/29/1994       Egypt   \n",
       "4      4  918            Youyou       Tu  12/30/1930  0000-00-00       China   \n",
       "\n",
       "  bornCountryCode         bornCity     diedCountry  ...           diedCity  \\\n",
       "0              US  Los Angeles, CA             USA  ...    Bloomington, IN   \n",
       "1              US  Los Angeles, CA             USA  ...    Bloomington, IN   \n",
       "2              KE            Nyeri           Kenya  ...            Nairobi   \n",
       "3              EG            Cairo  United Kingdom  ...  Shipston-on-Stour   \n",
       "4              CN  Zhejiang Ningbo             NaN  ...                NaN   \n",
       "\n",
       "   gender    year   category overallMotivation share  \\\n",
       "0  female  2009.0  economics               NaN   2.0   \n",
       "1  female  2009.0  economics               NaN   2.0   \n",
       "2  female  2004.0      peace               NaN   1.0   \n",
       "3  female  1964.0  chemistry               NaN   1.0   \n",
       "4  female  2015.0   medicine               NaN   2.0   \n",
       "\n",
       "                                          motivation  \\\n",
       "0  \"for her analysis of economic governance, espe...   \n",
       "1  \"for her analysis of economic governance, espe...   \n",
       "2  \"for her contribution to sustainable developme...   \n",
       "3  \"for her determinations by X-ray techniques of...   \n",
       "4  \"for her discoveries concerning a novel therap...   \n",
       "\n",
       "                                            name             city  \\\n",
       "0                             Indiana University  Bloomington, IN   \n",
       "1                       Arizona State University        Tempe, AZ   \n",
       "2                                            NaN              NaN   \n",
       "3            University of Oxford, Royal Society           Oxford   \n",
       "4  China Academy of Traditional Chinese Medicine          Beijing   \n",
       "\n",
       "          country  \n",
       "0             USA  \n",
       "1             USA  \n",
       "2             NaN  \n",
       "3  United Kingdom  \n",
       "4           China  \n",
       "\n",
       "[5 rows x 21 columns]"
      ]
     },
     "execution_count": 9,
     "metadata": {},
     "output_type": "execute_result"
    }
   ],
   "source": [
    "# 2.1  print first five rows\n",
    "nobel_prize.head()"
   ]
  },
  {
   "cell_type": "code",
   "execution_count": 12,
   "metadata": {},
   "outputs": [
    {
     "data": {
      "text/plain": [
       "Index(['index', 'id', 'firstname', 'surname', 'born', 'died', 'bornCountry',\n",
       "       'bornCountryCode', 'bornCity', 'diedCountry', 'diedCountryCode',\n",
       "       'diedCity', 'gender', 'year', 'category', 'overallMotivation', 'share',\n",
       "       'motivation', 'name', 'city', 'country'],\n",
       "      dtype='object')"
      ]
     },
     "execution_count": 12,
     "metadata": {},
     "output_type": "execute_result"
    }
   ],
   "source": [
    "# 2.2 print columns\n",
    "nobel_prize.columns"
   ]
  },
  {
   "cell_type": "code",
   "execution_count": 15,
   "metadata": {},
   "outputs": [
    {
     "data": {
      "text/plain": [
       "index                  int64\n",
       "id                     int64\n",
       "firstname             object\n",
       "surname               object\n",
       "born                  object\n",
       "died                  object\n",
       "bornCountry           object\n",
       "bornCountryCode       object\n",
       "bornCity              object\n",
       "diedCountry           object\n",
       "diedCountryCode       object\n",
       "diedCity              object\n",
       "gender                object\n",
       "year                 float64\n",
       "category              object\n",
       "overallMotivation     object\n",
       "share                float64\n",
       "motivation            object\n",
       "name                  object\n",
       "city                  object\n",
       "country               object\n",
       "dtype: object"
      ]
     },
     "execution_count": 15,
     "metadata": {},
     "output_type": "execute_result"
    }
   ],
   "source": [
    "# 2.3 print the types of all the columns in the table.\n",
    "nobel_prize.dtypes"
   ]
  },
  {
   "cell_type": "code",
   "execution_count": 42,
   "metadata": {},
   "outputs": [
    {
     "data": {
      "text/plain": [
       "<bound method NDFrame.describe of      index   id                                          firstname  surname  \\\n",
       "0        0  846                                             Elinor   Ostrom   \n",
       "1        1  846                                             Elinor   Ostrom   \n",
       "2        2  783                                       Wangari Muta  Maathai   \n",
       "3        3  230                                   Dorothy Crowfoot  Hodgkin   \n",
       "4        4  918                                             Youyou       Tu   \n",
       "..     ...  ...                                                ...      ...   \n",
       "967    967  525            United Nations Children's Fund (UNICEF)      NaN   \n",
       "968    968  527         International Labour Organization (I.L.O.)      NaN   \n",
       "969    969  537                              Amnesty International      NaN   \n",
       "970    970  547  International Physicians for the Prevention of...      NaN   \n",
       "971    971  550                 United Nations Peacekeeping Forces      NaN   \n",
       "\n",
       "           born        died bornCountry bornCountryCode         bornCity  \\\n",
       "0      8/7/1933   6/12/2012         USA              US  Los Angeles, CA   \n",
       "1      8/7/1933   6/12/2012         USA              US  Los Angeles, CA   \n",
       "2      4/1/1940   9/25/2011       Kenya              KE            Nyeri   \n",
       "3     5/12/1910   7/29/1994       Egypt              EG            Cairo   \n",
       "4    12/30/1930  0000-00-00       China              CN  Zhejiang Ningbo   \n",
       "..          ...         ...         ...             ...              ...   \n",
       "967         NaN         NaN         NaN             NaN              NaN   \n",
       "968         NaN         NaN         NaN             NaN              NaN   \n",
       "969         NaN         NaN         NaN             NaN              NaN   \n",
       "970         NaN         NaN         NaN             NaN              NaN   \n",
       "971         NaN         NaN         NaN             NaN              NaN   \n",
       "\n",
       "        diedCountry  ...           diedCity  gender    year   category  \\\n",
       "0               USA  ...    Bloomington, IN  female  2009.0  economics   \n",
       "1               USA  ...    Bloomington, IN  female  2009.0  economics   \n",
       "2             Kenya  ...            Nairobi  female  2004.0      peace   \n",
       "3    United Kingdom  ...  Shipston-on-Stour  female  1964.0  chemistry   \n",
       "4               NaN  ...                NaN  female  2015.0   medicine   \n",
       "..              ...  ...                ...     ...     ...        ...   \n",
       "967             NaN  ...                NaN     org  1965.0      peace   \n",
       "968             NaN  ...                NaN     org  1969.0      peace   \n",
       "969             NaN  ...                NaN     org  1977.0      peace   \n",
       "970             NaN  ...                NaN     org  1985.0      peace   \n",
       "971             NaN  ...                NaN     org  1988.0      peace   \n",
       "\n",
       "    overallMotivation share  \\\n",
       "0                 NaN   2.0   \n",
       "1                 NaN   2.0   \n",
       "2                 NaN   1.0   \n",
       "3                 NaN   1.0   \n",
       "4                 NaN   2.0   \n",
       "..                ...   ...   \n",
       "967               NaN   1.0   \n",
       "968               NaN   1.0   \n",
       "969               NaN   1.0   \n",
       "970               NaN   1.0   \n",
       "971               NaN   1.0   \n",
       "\n",
       "                                            motivation  \\\n",
       "0    \"for her analysis of economic governance, espe...   \n",
       "1    \"for her analysis of economic governance, espe...   \n",
       "2    \"for her contribution to sustainable developme...   \n",
       "3    \"for her determinations by X-ray techniques of...   \n",
       "4    \"for her discoveries concerning a novel therap...   \n",
       "..                                                 ...   \n",
       "967                                                NaN   \n",
       "968                                                NaN   \n",
       "969                                                NaN   \n",
       "970                                                NaN   \n",
       "971                                                NaN   \n",
       "\n",
       "                                              name             city  \\\n",
       "0                               Indiana University  Bloomington, IN   \n",
       "1                         Arizona State University        Tempe, AZ   \n",
       "2                                              NaN              NaN   \n",
       "3              University of Oxford, Royal Society           Oxford   \n",
       "4    China Academy of Traditional Chinese Medicine          Beijing   \n",
       "..                                             ...              ...   \n",
       "967                                            NaN              NaN   \n",
       "968                                            NaN              NaN   \n",
       "969                                            NaN              NaN   \n",
       "970                                            NaN              NaN   \n",
       "971                                            NaN              NaN   \n",
       "\n",
       "            country  \n",
       "0               USA  \n",
       "1               USA  \n",
       "2               NaN  \n",
       "3    United Kingdom  \n",
       "4             China  \n",
       "..              ...  \n",
       "967             NaN  \n",
       "968             NaN  \n",
       "969             NaN  \n",
       "970             NaN  \n",
       "971             NaN  \n",
       "\n",
       "[972 rows x 21 columns]>"
      ]
     },
     "execution_count": 42,
     "metadata": {},
     "output_type": "execute_result"
    }
   ],
   "source": [
    "# 2.4. Would the describe function give us any useful information of this data?\n",
    "# no because the types are not iterable so we cannot manipulate them to find statistical information. \n",
    "nobel_prize.describe"
   ]
  },
  {
   "cell_type": "code",
   "execution_count": 35,
   "metadata": {},
   "outputs": [
    {
     "data": {
      "text/plain": [
       "0.051440329218107"
      ]
     },
     "execution_count": 35,
     "metadata": {},
     "output_type": "execute_result"
    }
   ],
   "source": [
    "# 3 select gender and calculate number and proportion of women\n",
    "\n",
    "gender = nobel_prize['gender']\n",
    "len(list(filter(lambda x: x == \"female\", gender))) # 50 women\n",
    "len(gender) # total 972\n",
    "\n",
    "proportion_of_women = 50 / 972\n",
    "proportion_of_women "
   ]
  },
  {
   "cell_type": "code",
   "execution_count": 28,
   "metadata": {},
   "outputs": [
    {
     "name": "stdout",
     "output_type": "stream",
     "text": [
      "0      femaleeconomics\n",
      "1      femaleeconomics\n",
      "2          femalepeace\n",
      "3      femalechemistry\n",
      "4       femalemedicine\n",
      "            ...       \n",
      "967           orgpeace\n",
      "968           orgpeace\n",
      "969           orgpeace\n",
      "970           orgpeace\n",
      "971           orgpeace\n",
      "Length: 972, dtype: object\n"
     ]
    }
   ],
   "source": [
    "# 4 gender column g, category column c\n",
    "g = nobel_prize['gender']\n",
    "c = nobel_prize['category']\n",
    "\n",
    "gc = g + c\n",
    "print(gc)"
   ]
  },
  {
   "cell_type": "code",
   "execution_count": 41,
   "metadata": {},
   "outputs": [
    {
     "data": {
      "text/plain": [
       "True"
      ]
     },
     "execution_count": 41,
     "metadata": {},
     "output_type": "execute_result"
    }
   ],
   "source": [
    "nobel_prize['category']\n",
    "\n",
    "# 5 calculate proportion of females that women economics prize \n",
    "len(list(filter(lambda x: x == \"femaleeconomics\", gc))) # 2 women won female economics prize \n",
    "\n",
    "proportion_of_women_econ = len(list(filter(lambda x: x == \"femaleeconomics\", gc))) / len(gc)\n",
    "proportion_of_women_econ\n",
    "\n",
    "\n",
    "# compare\n",
    "proportion_of_women_econ < proportion_of_women "
   ]
  }
 ],
 "metadata": {
  "kernelspec": {
   "display_name": "conda_amazonei_mxnet_p36",
   "language": "python",
   "name": "conda_amazonei_mxnet_p36"
  },
  "language_info": {
   "codemirror_mode": {
    "name": "ipython",
    "version": 3
   },
   "file_extension": ".py",
   "mimetype": "text/x-python",
   "name": "python",
   "nbconvert_exporter": "python",
   "pygments_lexer": "ipython3",
   "version": "3.6.13"
  },
  "vscode": {
   "interpreter": {
    "hash": "11838f79d2aaadbfa3a2adfaf35bacdebdb4e8d9b63957ddf298964812544a76"
   }
  }
 },
 "nbformat": 4,
 "nbformat_minor": 4
}
